{
 "cells": [
  {
   "cell_type": "code",
   "execution_count": 5,
   "metadata": {},
   "outputs": [],
   "source": [
    "import pandas as pd\n",
    "from nltk.tokenize import word_tokenize\n",
    "from nltk.corpus import stopwords\n",
    "import string\n",
    "from Sastrawi.Stemmer.StemmerFactory import StemmerFactory\n",
    "from nltk.probability import FreqDist\n",
    "from nltk.classify import NaiveBayesClassifier, MaxentClassifier, accuracy\n",
    "from nltk.classify.decisiontree import DecisionTreeClassifier\n",
    "import random\n",
    "import pickle\n",
    "import matplotlib.pyplot as plt"
   ]
  },
  {
   "cell_type": "markdown",
   "metadata": {},
   "source": [
    "Menggunakan pandas untuk melakukan load.\n",
    "Menggunakan word tokenize untuk melakukan tokenisasi.\n",
    "menggunakan stopwords untuk menghapus kata-kata yang tidak penting untuk dilatih.\n",
    "menggunakan string untuk menghilangkan tanda baca atau symbol.\n",
    "menggunakan stemming membalikan katanya kebentuk asal, karena dataset yang digunakan adalah bahasa indonesia maka tidak dapat menggunakan lemmatizer karena tidak ada library yang mensupport hal tersebut.  \n",
    "menggunakan freqdist untuk menghitung frequensi kata.  \n",
    "menggunakan naive bayes untuk melakukan classification dan accuracy untuk mencari akurasi dari model. \n",
    "menggunakan random untuk mengancak data yang akan di train. \n",
    "menggunakan pickle untuk menyimpan model yang telah dilatih."
   ]
  },
  {
   "cell_type": "code",
   "execution_count": 6,
   "metadata": {},
   "outputs": [],
   "source": [
    "dataset = pd.read_csv('reviews.csv')"
   ]
  },
  {
   "cell_type": "code",
   "execution_count": 7,
   "metadata": {},
   "outputs": [
    {
     "data": {
      "text/html": [
       "<div>\n",
       "<style scoped>\n",
       "    .dataframe tbody tr th:only-of-type {\n",
       "        vertical-align: middle;\n",
       "    }\n",
       "\n",
       "    .dataframe tbody tr th {\n",
       "        vertical-align: top;\n",
       "    }\n",
       "\n",
       "    .dataframe thead th {\n",
       "        text-align: right;\n",
       "    }\n",
       "</style>\n",
       "<table border=\"1\" class=\"dataframe\">\n",
       "  <thead>\n",
       "    <tr style=\"text-align: right;\">\n",
       "      <th></th>\n",
       "      <th>reviews</th>\n",
       "      <th>label</th>\n",
       "    </tr>\n",
       "  </thead>\n",
       "  <tbody>\n",
       "    <tr>\n",
       "      <th>0</th>\n",
       "      <td>kemeja nya bagusss bgtttt😍😍😍aaaa mauuu nngisss...</td>\n",
       "      <td>1.0</td>\n",
       "    </tr>\n",
       "    <tr>\n",
       "      <th>1</th>\n",
       "      <td>Jahitannya sih rapi,cuman ada benang yang ikut...</td>\n",
       "      <td>0.0</td>\n",
       "    </tr>\n",
       "    <tr>\n",
       "      <th>2</th>\n",
       "      <td>Sesuai harga. Agak tipis tapi masih oke kok. W...</td>\n",
       "      <td>0.0</td>\n",
       "    </tr>\n",
       "    <tr>\n",
       "      <th>3</th>\n",
       "      <td>Wah gila sihhh sebagus itu, se worth it, se  l...</td>\n",
       "      <td>1.0</td>\n",
       "    </tr>\n",
       "    <tr>\n",
       "      <th>4</th>\n",
       "      <td>Kain nya bagus halus  \\nTapi kok di bukak koto...</td>\n",
       "      <td>0.0</td>\n",
       "    </tr>\n",
       "  </tbody>\n",
       "</table>\n",
       "</div>"
      ],
      "text/plain": [
       "                                             reviews  label\n",
       "0  kemeja nya bagusss bgtttt😍😍😍aaaa mauuu nngisss...    1.0\n",
       "1  Jahitannya sih rapi,cuman ada benang yang ikut...    0.0\n",
       "2  Sesuai harga. Agak tipis tapi masih oke kok. W...    0.0\n",
       "3  Wah gila sihhh sebagus itu, se worth it, se  l...    1.0\n",
       "4  Kain nya bagus halus  \\nTapi kok di bukak koto...    0.0"
      ]
     },
     "execution_count": 7,
     "metadata": {},
     "output_type": "execute_result"
    }
   ],
   "source": [
    "dataset.head(5)"
   ]
  },
  {
   "cell_type": "code",
   "execution_count": 8,
   "metadata": {},
   "outputs": [
    {
     "data": {
      "text/plain": [
       "(831, 2)"
      ]
     },
     "execution_count": 8,
     "metadata": {},
     "output_type": "execute_result"
    }
   ],
   "source": [
    "dataset.shape"
   ]
  },
  {
   "cell_type": "code",
   "execution_count": 9,
   "metadata": {},
   "outputs": [],
   "source": [
    "label_mapping = {1: 'positive', 0 : 'negative'}\n",
    "dataset['label'] = dataset['label'].map(label_mapping)"
   ]
  },
  {
   "cell_type": "code",
   "execution_count": 10,
   "metadata": {},
   "outputs": [],
   "source": [
    "labels = dataset['label'].value_counts()"
   ]
  },
  {
   "cell_type": "code",
   "execution_count": 11,
   "metadata": {},
   "outputs": [
    {
     "data": {
      "image/png": "[encoded data removed]",
      "text/plain": [
       "<Figure size 640x480 with 1 Axes>"
      ]
     },
     "metadata": {},
     "output_type": "display_data"
    }
   ],
   "source": [
    "labels.plot(kind = 'bar', color = ['red', 'green'])\n",
    "plt.show()"
   ]
  },
  {
   "cell_type": "code",
   "execution_count": 12,
   "metadata": {},
   "outputs": [
    {
     "data": {
      "text/html": [
       "<div>\n",
       "<style scoped>\n",
       "    .dataframe tbody tr th:only-of-type {\n",
       "        vertical-align: middle;\n",
       "    }\n",
       "\n",
       "    .dataframe tbody tr th {\n",
       "        vertical-align: top;\n",
       "    }\n",
       "\n",
       "    .dataframe thead th {\n",
       "        text-align: right;\n",
       "    }\n",
       "</style>\n",
       "<table border=\"1\" class=\"dataframe\">\n",
       "  <thead>\n",
       "    <tr style=\"text-align: right;\">\n",
       "      <th></th>\n",
       "      <th>reviews</th>\n",
       "      <th>label</th>\n",
       "    </tr>\n",
       "  </thead>\n",
       "  <tbody>\n",
       "    <tr>\n",
       "      <th>0</th>\n",
       "      <td>kemeja nya bagusss bgtttt😍😍😍aaaa mauuu nngisss...</td>\n",
       "      <td>positive</td>\n",
       "    </tr>\n",
       "    <tr>\n",
       "      <th>1</th>\n",
       "      <td>Jahitannya sih rapi,cuman ada benang yang ikut...</td>\n",
       "      <td>negative</td>\n",
       "    </tr>\n",
       "    <tr>\n",
       "      <th>2</th>\n",
       "      <td>Sesuai harga. Agak tipis tapi masih oke kok. W...</td>\n",
       "      <td>negative</td>\n",
       "    </tr>\n",
       "    <tr>\n",
       "      <th>3</th>\n",
       "      <td>Wah gila sihhh sebagus itu, se worth it, se  l...</td>\n",
       "      <td>positive</td>\n",
       "    </tr>\n",
       "    <tr>\n",
       "      <th>4</th>\n",
       "      <td>Kain nya bagus halus  \\nTapi kok di bukak koto...</td>\n",
       "      <td>negative</td>\n",
       "    </tr>\n",
       "  </tbody>\n",
       "</table>\n",
       "</div>"
      ],
      "text/plain": [
       "                                             reviews     label\n",
       "0  kemeja nya bagusss bgtttt😍😍😍aaaa mauuu nngisss...  positive\n",
       "1  Jahitannya sih rapi,cuman ada benang yang ikut...  negative\n",
       "2  Sesuai harga. Agak tipis tapi masih oke kok. W...  negative\n",
       "3  Wah gila sihhh sebagus itu, se worth it, se  l...  positive\n",
       "4  Kain nya bagus halus  \\nTapi kok di bukak koto...  negative"
      ]
     },
     "execution_count": 12,
     "metadata": {},
     "output_type": "execute_result"
    }
   ],
   "source": [
    "dataset.head(5)"
   ]
  },
  {
   "cell_type": "code",
   "execution_count": 13,
   "metadata": {},
   "outputs": [],
   "source": [
    "indo_stopwords = stopwords.words('indonesian')\n",
    "punctuation_list = string.punctuation\n",
    "factory = StemmerFactory()\n",
    "stemming = factory.create_stemmer()\n",
    "\n",
    "def remove_stopwords(wlist):\n",
    "    return [word for word in wlist if word not in indo_stopwords]\n",
    "\n",
    "def remove_punctuation(wlist):\n",
    "    return [word for word in wlist if word not in punctuation_list]\n",
    "\n",
    "def remove_number(wlist):\n",
    "    return [word for word in wlist if word.isalpha()]\n",
    "\n",
    "def stemming_word(wlist):\n",
    "    return [stemming.stem(word) for word in wlist]\n",
    "\n",
    "def preprocess_text(wlist):\n",
    "        wordList = word_tokenize(wlist)\n",
    "        wordList = remove_stopwords(wordList)\n",
    "        wordList = remove_punctuation(wordList)\n",
    "        wordList = remove_number(wordList)\n",
    "        wordList = stemming_word(wordList)\n",
    "        return ' '.join(wordList)"
   ]
  },
  {
   "cell_type": "markdown",
   "metadata": {},
   "source": [
    "Kita akan melakukan preprocessing data aga siap di training"
   ]
  },
  {
   "cell_type": "markdown",
   "metadata": {},
   "source": [
    "Naive Bayes"
   ]
  },
  {
   "cell_type": "code",
   "execution_count": 14,
   "metadata": {},
   "outputs": [],
   "source": [
    "def naive_bayes_train():\n",
    "    review_list = dataset['reviews'].to_list()\n",
    "    label_list = dataset['label'].to_list()\n",
    "    \n",
    "    wordList = [preprocess_text(review.lower()) for review in review_list]\n",
    "    \n",
    "    fd = FreqDist(wordList)\n",
    "    word_features = [word for word, count in fd.most_common()]\n",
    "    labeled_data = list(zip(review_list, label_list))\n",
    "    \n",
    "    features_set = []\n",
    "    \n",
    "    for sentence, label in labeled_data:\n",
    "        features = {}\n",
    "        checklist = preprocess_text(sentence)\n",
    "        \n",
    "        for word in word_features:\n",
    "            features[word] = (word in checklist)\n",
    "        \n",
    "        features_set.append((features, label))\n",
    "    \n",
    "    random.shuffle(features_set)\n",
    "    train_count = int(len(features_set) * 0.8)\n",
    "    train_dataset = features_set[:train_count]\n",
    "    test_dataset = features_set[train_count:]\n",
    "    \n",
    "    naive_bayes_classifier = NaiveBayesClassifier.train(train_dataset)\n",
    "    naive_bayes_classifier.show_most_informative_features(n=5)\n",
    "    print(f'Naive Bayes Model Accuracy: {accuracy(naive_bayes_classifier, test_dataset)}')\n",
    "    \n",
    "    file = open('naive_bayes_model.pickle', 'wb')\n",
    "    pickle.dump(naive_bayes_classifier, file)\n",
    "    file.close()\n",
    "    \n",
    "    return naive_bayes_classifier"
   ]
  },
  {
   "cell_type": "markdown",
   "metadata": {},
   "source": [
    "Decision Tree"
   ]
  },
  {
   "cell_type": "code",
   "execution_count": 15,
   "metadata": {},
   "outputs": [],
   "source": [
    "def decision_tree_train():\n",
    "    review_list = dataset['reviews'].to_list()\n",
    "    label_list = dataset['label'].to_list()\n",
    "\n",
    "    wordList = [preprocess_text(review.lower()) for review in review_list]\n",
    "\n",
    "    fd = FreqDist(wordList)\n",
    "    word_features = [word for word, count in fd.most_common()]\n",
    "    labeled_data = list(zip(review_list, label_list))\n",
    "\n",
    "    features_set = []\n",
    "\n",
    "    for sentence, label in labeled_data:\n",
    "        features = {}\n",
    "        checklist = preprocess_text(sentence)\n",
    "\n",
    "        for word in word_features:\n",
    "            features[word] = (word in checklist)\n",
    "        \n",
    "        features_set.append((features, label))\n",
    "\n",
    "    random.shuffle(features_set)\n",
    "    train_count = int(len(features_set) * 0.8)\n",
    "    train_dataset = features_set[:train_count]\n",
    "    test_dataset = features_set[train_count:]\n",
    "\n",
    "    decision_tree_classifier = DecisionTreeClassifier.train(train_dataset)\n",
    "    print(f'Decision Tree Model Accuracy: {accuracy(decision_tree_classifier, test_dataset)}')\n",
    "            \n",
    "    file = open('decision_tree_model.pickle', 'wb')\n",
    "    pickle.dump(decision_tree_classifier, file)\n",
    "    file.close()\n",
    "\n",
    "    return decision_tree_classifier"
   ]
  },
  {
   "cell_type": "markdown",
   "metadata": {},
   "source": [
    "Maximum Entropy"
   ]
  },
  {
   "cell_type": "code",
   "execution_count": 16,
   "metadata": {},
   "outputs": [],
   "source": [
    "def maximum_entropy_train():\n",
    "    review_list = dataset['reviews'].to_list()\n",
    "    label_list = dataset['label'].to_list()\n",
    "\n",
    "    wordList = [preprocess_text(review.lower()) for review in review_list]\n",
    "\n",
    "    fd = FreqDist(wordList)\n",
    "    word_features = [word for word, count in fd.most_common()]\n",
    "    labeled_data = list(zip(review_list, label_list))\n",
    "\n",
    "    features_set = []\n",
    "\n",
    "    for sentence, label in labeled_data:\n",
    "        features = {}\n",
    "        checklist = preprocess_text(sentence)\n",
    "\n",
    "        for word in word_features:\n",
    "            features[word] = (word in checklist)\n",
    "        \n",
    "        features_set.append((features, label))\n",
    "\n",
    "    random.shuffle(features_set)\n",
    "    train_count = int(len(features_set) * 0.8)\n",
    "    train_dataset = features_set[:train_count]\n",
    "    test_dataset = features_set[train_count:]\n",
    "\n",
    "    maximum_entropy_classifier = MaxentClassifier.train(train_dataset,max_iter=10)\n",
    "    maximum_entropy_classifier.show_most_informative_features(n=5)\n",
    "    print(f'Maximum Entropy Model Accuracy: {accuracy(maximum_entropy_classifier, test_dataset)}')\n",
    "\n",
    "    file = open('maximum_entropy_model.pickle', 'wb')\n",
    "    pickle.dump(maximum_entropy_classifier, file)\n",
    "    file.close()\n",
    "\n",
    "    return maximum_entropy_classifier"
   ]
  },
  {
   "cell_type": "code",
   "execution_count": 17,
   "metadata": {},
   "outputs": [
    {
     "name": "stdout",
     "output_type": "stream",
     "text": [
      "LOADING MODEL...\n",
      "LOADING MODELS COMPLETE\n"
     ]
    }
   ],
   "source": [
    "try:\n",
    "    print('LOADING MODEL...')\n",
    "\n",
    "    # Naive Bayes Model\n",
    "    file = open('naive_bayes_model.pickle', 'rb')\n",
    "    naive_bayes_classifier = pickle.load(file)\n",
    "    file.close()\n",
    "\n",
    "    # Decision Tree Model\n",
    "    file = open('decision_tree_model.pickle', 'rb')\n",
    "    decision_tree_classifier = pickle.load(file)\n",
    "    file.close()\n",
    "\n",
    "    # Maximum Entropy Model\n",
    "    file = open('maximum_entropy_model.pickle', 'rb')\n",
    "    maximum_entropy_classifier = pickle.load(file)\n",
    "    file.close()\n",
    "\n",
    "    print('LOADING MODELS COMPLETE')\n",
    "except:\n",
    "    print('NO MODELS FOUND')\n",
    "    print('CREATING MODELS...')\n",
    "\n",
    "    naive_bayes_classifier = naive_bayes_train()\n",
    "    decision_tree_classifier = decision_tree_train()\n",
    "    maximum_entropy_classifier = maximum_entropy_train()\n",
    "    \n",
    "    print('MODELS CREATED')"
   ]
  },
  {
   "cell_type": "code",
   "execution_count": 18,
   "metadata": {},
   "outputs": [],
   "source": [
    "def menu():\n",
    "    print('Product Review')\n",
    "    print('1. Write Review')\n",
    "    print('2. Analyze Review')\n",
    "    print('3. Exit')\n",
    "    \n",
    "    choice = input('Input your choice')\n",
    "    return choice"
   ]
  },
  {
   "cell_type": "code",
   "execution_count": 19,
   "metadata": {},
   "outputs": [],
   "source": [
    "def writeReview():\n",
    "    while True:\n",
    "        review = input('Input your review: ')\n",
    "        cleaned = [word for word in word_tokenize(review) if word not in punctuation_list]\n",
    "        if len(cleaned) < 5:\n",
    "            print('Review must consist 5 words')\n",
    "        else:\n",
    "            break\n",
    "        \n",
    "    global reviewInput\n",
    "    reviewInput = review\n",
    "    input('press enter to continue')"
   ]
  },
  {
   "cell_type": "code",
   "execution_count": 20,
   "metadata": {},
   "outputs": [],
   "source": [
    "def analyzeReview():\n",
    "\n",
    "    print(f'Review = {reviewInput}')\n",
    "    review = reviewInput.lower()\n",
    "    tokenized_review = FreqDist(word_tokenize(review))\n",
    "\n",
    "    print(f'Review Category (Naive Bayes): {naive_bayes_classifier.classify(tokenized_review)}')\n",
    "    print(f'Review Category (Decision Tree): {decision_tree_classifier.classify(tokenized_review)}')\n",
    "    print(f'Review Category (Maximum Entropy): {maximum_entropy_classifier.classify(tokenized_review)}')"
   ]
  },
  {
   "cell_type": "code",
   "execution_count": 21,
   "metadata": {},
   "outputs": [
    {
     "name": "stdout",
     "output_type": "stream",
     "text": [
      "Product Review\n",
      "1. Write Review\n",
      "2. Analyze Review\n",
      "3. Exit\n",
      "Review must consist 5 words\n",
      "Review must consist 5 words\n",
      "Product Review\n",
      "1. Write Review\n",
      "2. Analyze Review\n",
      "3. Exit\n",
      "Review = jelek banget cok asli parah gila\n",
      "Review Category (Naive Bayes): negative\n",
      "Review Category (Decision Tree): negative\n",
      "Review Category (Maximum Entropy): positive\n",
      "Product Review\n",
      "1. Write Review\n",
      "2. Analyze Review\n",
      "3. Exit\n",
      "Product Review\n",
      "1. Write Review\n",
      "2. Analyze Review\n",
      "3. Exit\n",
      "Review = bagus banget woi bajunya keren banget\n",
      "Review Category (Naive Bayes): positive\n",
      "Review Category (Decision Tree): positive\n",
      "Review Category (Maximum Entropy): positive\n",
      "Product Review\n",
      "1. Write Review\n",
      "2. Analyze Review\n",
      "3. Exit\n",
      "Thank you\n"
     ]
    }
   ],
   "source": [
    "while True:\n",
    "    choice = menu()\n",
    "    if choice == '1':\n",
    "        writeReview()\n",
    "    elif choice == '2':\n",
    "        analyzeReview()\n",
    "    elif choice == '3':\n",
    "        print('Thank you')\n",
    "        break\n",
    "    else:\n",
    "        print('Invalid input')"
   ]
  }
 ],
 "metadata": {
  "kernelspec": {
   "display_name": "nlp",
   "language": "python",
   "name": "python3"
  },
  "language_info": {
   "codemirror_mode": {
    "name": "ipython",
    "version": 3
   },
   "file_extension": ".py",
   "mimetype": "text/x-python",
   "name": "python",
   "nbconvert_exporter": "python",
   "pygments_lexer": "ipython3",
   "version": "3.10.9"
  }
 },
 "nbformat": 4,
 "nbformat_minor": 2
}
